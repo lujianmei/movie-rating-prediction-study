{
 "cells": [
  {
   "cell_type": "markdown",
   "metadata": {},
   "source": [
    "# Evaluation of IMDB Movie Rating Prediction Model\n",
    "\n",
    "- Because our features do not fit well in sklearn framework do the data cleaning, imputation manually. \n",
    "- Pay special attention on not using any test data while training!"
   ]
  },
  {
   "cell_type": "markdown",
   "metadata": {},
   "source": [
    "# Load Dataset"
   ]
  },
  {
   "cell_type": "code",
   "execution_count": 1,
   "metadata": {
    "collapsed": true
   },
   "outputs": [],
   "source": [
    "import numpy as np\n",
    "import pandas as pd\n",
    "import matplotlib.pyplot as plt\n",
    "from sklearn import model_selection, preprocessing, linear_model, ensemble, metrics\n",
    "%matplotlib inline"
   ]
  },
  {
   "cell_type": "code",
   "execution_count": 2,
   "metadata": {
    "collapsed": true
   },
   "outputs": [],
   "source": [
    "filepath = '/Users/vug/Downloads/movie_metadata.csv'\n",
    "filepath = r'C:\\Users\\veliu\\Downloads\\movie_metadata.csv'"
   ]
  },
  {
   "cell_type": "code",
   "execution_count": 4,
   "metadata": {
    "collapsed": false
   },
   "outputs": [],
   "source": [
    "df = pd.read_csv(filepath)\n",
    "\n",
    "# Drop features\n",
    "to_drop = ['country', 'language', 'movie_imdb_link']\n",
    "df.drop(to_drop, axis=1, inplace=True)\n",
    "\n",
    "FEATURES_TEXT = sorted(df.dtypes[df.dtypes == 'object'].index.values.tolist())\n",
    "FEATURES_NUMERIC = sorted(set(df.columns) - set(FEATURES_TEXT))\n",
    "FEATURES_CATEGORICAL = ['actor_1_name', 'actor_2_name', 'actor_3_name', 'color', 'content_rating', 'director_name']"
   ]
  },
  {
   "cell_type": "markdown",
   "metadata": {},
   "source": [
    "## Function Library"
   ]
  },
  {
   "cell_type": "code",
   "execution_count": null,
   "metadata": {
    "collapsed": true
   },
   "outputs": [],
   "source": [
    "def get_all_items_and_most_common(series):\n",
    "    \"\"\"Given a column of which elements are strings with | separator return all items in that column and most common one.\"\"\"\n",
    "    nested_list = series.apply(lambda x: x.split('|') if not type(x) == float else []).values\n",
    "    all_items = pd.Series(np.hstack(nested_list))\n",
    "    unique_items = all_items.unique()\n",
    "    return sorted(unique_items), all_items.value_counts().index[0]\n",
    "\n",
    "def get_item_scores(df, items, column):\n",
    "    \"\"\"Given the list of all items return the a dictionary where keys are items and values are lists of scores earn by those items.\"\"\"\n",
    "    item_scores = {item: [] for item in items}\n",
    "    for ix, row in df.iterrows():\n",
    "        if type(row[column]) == str:\n",
    "            for item in row[column].split('|'):\n",
    "                item_scores[item].append(row.imdb_score)\n",
    "    return item_scores\n",
    "\n",
    "def get_average_scores(scores):\n",
    "    ave_scores = dict()\n",
    "    for key, scores in scores.items():\n",
    "        ave_scores[key] = sum(scores) / len(scores)\n",
    "    return ave_scores\n",
    "\n",
    "def get_label_encoder(series):\n",
    "    label_encoder = preprocessing.LabelEncoder()\n",
    "    label_encoder.fit(series)\n",
    "    return label_encoder\n",
    "\n",
    "def get_one_hot_encoder(series):\n",
    "    one_hot_encoder = preprocessing.OneHotEncoder()\n",
    "    one_hot_encoder.fit(series)\n",
    "    return one_hot_encoder\n",
    "\n",
    "def one_hot_encode(series, label_encoder, one_hot_encoder):\n",
    "    label_encoded = label_encoder.transform(series)\n",
    "    one_hot_encoded = one_hot_encoder.transform(label_encoded)\n",
    "    return one_hot_encoded\n",
    "\n",
    "def analyze_training_set(df):\n",
    "    \"\"\"Prepare necessary data to be able to impute test set, such as most common values.\"\"\"\n",
    "    keywords, mc_keyword = get_all_items_and_most_common(df.plot_keywords)\n",
    "    genres, mc_genre = get_all_items_and_most_common(df.genres)\n",
    "    directors, mc_director = get_all_items_and_most_common(df.director_name)\n",
    "    all_actors = df.actor_1_name.values.tolist() + df.actor_2_name.values.tolist() + df.actor_3_name.values.tolist()\n",
    "    all_actors = [a for a in all_actors if type(a) == str]\n",
    "    actors = sorted(set(all_actors))\n",
    "    mc_actor = pd.Series(all_actors).value_counts().index[0]\n",
    "    \n",
    "    medians = {col: df[col].median() for col in FEATURES_NUMERIC}\n",
    "    most_common_values = {col: df[col].value_counts().index[0] for col in FEATURES_CATEGORICAL}\n",
    "    all_values = {col: df[col].unique() for col in FEATURES_CATEGORICAL}\n",
    "    \n",
    "    keyword_scores = get_item_scores(df, keywords, 'plot_keywords')\n",
    "    genre_scores = get_item_scores(df, genres, 'genres')\n",
    "    director_scores = get_item_scores(df, directors, 'director_name')\n",
    "    actor_scores = {actor: [] for actor in actors}\n",
    "    for ix, row in df.iterrows():\n",
    "        for a in [row.actor_1_name, row.actor_2_name, row.actor_3_name]:\n",
    "            if type(a) == str:\n",
    "                actor_scores[a].append(row.imdb_score)    \n",
    "        \n",
    "    return (keywords, mc_keyword, keyword_scores,\n",
    "            genres, mc_genre, genre_scores,\n",
    "            directors, mc_director, director_scores,\n",
    "            actors, mc_actor, actor_scores,\n",
    "            medians, most_common_values, all_values)\n",
    "\n",
    "def impute_dataset(df, medians, most_common_values, all_values, mc_keyword, mc_actor):\n",
    "    \"\"\"Given the collected statistics from training set, impute missing data.\"\"\"\n",
    "    for col in FEATURES_NUMERIC:\n",
    "        df[col].fillna(medians[col], inplace=True)\n",
    "    for col in FEATURES_CATEGORICAL:\n",
    "        df[col].fillna(most_common_values[col], inplace=True)\n",
    "        # If a value is not seen in training set, replace it with most common value in training set.\n",
    "        df[col] = df[col].apply(lambda s: s if s in all_values[col] else most_common_values[col])\n",
    "    df.plot_keywords.fillna(mc_keyword, inplace=True)\n",
    "    df.actor_1_name.fillna(mc_actor, inplace=True)\n",
    "    df.actor_2_name.fillna(mc_actor, inplace=True)\n",
    "    df.actor_3_name.fillna(mc_actor, inplace=True)\n",
    "    \n",
    "def analyze_training_set2(df):\n",
    "    \"\"\"Handle feature that needs one-hot encoding.\"\"\"\n",
    "    color_label_encoder = get_label_encoder(df.color)\n",
    "    color_label_encoded = color_label_encoder.transform(df.color).reshape(-1, 1)\n",
    "    color_one_hot_encoder = get_one_hot_encoder(color_label_encoded)\n",
    "    rating_label_encoder = get_label_encoder(df.content_rating)\n",
    "    rating_label_encoded = rating_label_encoder.transform(df.content_rating).reshape(-1, 1)\n",
    "    rating_one_hot_encoder = get_one_hot_encoder(rating_label_encoded)\n",
    "    return color_label_encoder, color_one_hot_encoder, rating_label_encoder, rating_one_hot_encoder \n",
    "    \n",
    "    \n",
    "def extract_features(df, mc_actor, mc_genre, mc_keyword, mc_director,\n",
    "                    color_label_encoder, color_one_hot_encoder, rating_label_encoder, rating_one_hot_encoder):\n",
    "    \"\"\"Extract features such as actors, genres, directors average scores.\"\"\"\n",
    "    keyword_ave_scores = get_average_scores(keyword_scores)\n",
    "    genre_ave_scores = get_average_scores(genre_scores)\n",
    "    actor_ave_scores = get_average_scores(actor_scores)\n",
    "    director_ave_scores = get_average_scores(director_scores)\n",
    "    ave_keyword_scr = keyword_ave_scores[mc_keyword]\n",
    "    ave_actor_scr = actor_ave_scores[mc_actor]\n",
    "    ave_genre_scr = genre_ave_scores[mc_genre]\n",
    "    ave_director_scr = director_ave_scores[mc_director]\n",
    "    \n",
    "    df.loc[:, 'actor_1_ave_score'] = df.actor_1_name.apply(lambda name: actor_ave_scores.get(name, ave_actor_scr))\n",
    "    df.loc[:, 'actor_2_ave_score'] = df.actor_2_name.apply(lambda name: actor_ave_scores.get(name, ave_actor_scr))\n",
    "    df.loc[:, 'actor_3_ave_score'] = df.actor_3_name.apply(lambda name: actor_ave_scores.get(name, ave_actor_scr))\n",
    "    splitted = df.genres.apply(lambda s: s.split('|'))\n",
    "    df.loc[:, 'genres_ave_score'] = splitted.apply(lambda genres: sum([genre_ave_scores.get(g, ave_genre_scr) for g in genres]) / len(genres))\n",
    "    splitted = df.plot_keywords.apply(lambda s: s.split('|'))\n",
    "    df.loc[:, 'keywords_ave_score'] = splitted.apply(lambda keywords: sum([keyword_ave_scores.get(k, ave_keyword_scr) for k in keywords]) / len(keywords))\n",
    "    df.loc[:, 'director_ave_score'] = df.director_name.apply(lambda name: director_ave_scores.get(name, ave_director_scr))\n",
    "    \n",
    "    color_label_encoded = color_label_encoder.transform(df.color).reshape(-1, 1)\n",
    "    X_color = color_one_hot_encoder.transform(color_label_encoded).toarray()\n",
    "    rating_label_encoded = rating_label_encoder.transform(df.content_rating).reshape(-1, 1)\n",
    "    X_rating = rating_one_hot_encoder.transform(rating_label_encoded).toarray()\n",
    "    \n",
    "    X_numeric = df[['num_critic_for_reviews', 'duration', 'director_facebook_likes', 'actor_3_facebook_likes', 'actor_1_facebook_likes',\n",
    "       'gross', 'num_voted_users', 'cast_total_facebook_likes', 'facenumber_in_poster', 'num_user_for_reviews',\n",
    "       'budget', 'title_year', 'actor_2_facebook_likes', 'actor_1_ave_score', 'actor_2_ave_score', 'actor_3_ave_score',\n",
    "       'genres_ave_score', 'keywords_ave_score', 'director_ave_score']].values\n",
    "    \n",
    "    X = np.hstack([X_numeric, X_color, X_rating])    \n",
    "    y = df.imdb_score.values\n",
    "    return X, y\n",
    "\n",
    "def plot_actual_vs_prediction(predicted, actual):\n",
    "    plt.scatter(predicted, actual, lw=0, alpha=0.2)\n",
    "    plt.xlabel('predicted')\n",
    "    plt.ylabel('actual')\n",
    "    plt.plot([0, 10], [0, 10], color='red', lw=2, linestyle='--')\n",
    "    plt.xlim([0, 10])\n",
    "    plt.ylim([0, 10])"
   ]
  },
  {
   "cell_type": "markdown",
   "metadata": {},
   "source": [
    "# Model evaluation via cross-validation\n",
    "\n",
    "We'll choose two simple models and feed them with our features. Because training and test sets are not given separatly, I'm going to do cross-validation, i.e. dataset set will be split into training and test sets multiple times, each time from a different location.\n",
    "\n",
    "For each split predictions and errors are calculated."
   ]
  },
  {
   "cell_type": "code",
   "execution_count": 174,
   "metadata": {
    "collapsed": false
   },
   "outputs": [],
   "source": [
    "errors1 = []\n",
    "plot_data1 = []\n",
    "errors2 = []\n",
    "plot_data2 = []\n",
    "kf = model_selection.KFold(n_splits=10, random_state=2)\n",
    "for train_ix, text_ix in reversed(list(kf.split(df.values))):\n",
    "# ss = model_selection.ShuffleSplit(n_splits=5, test_size=0.05, random_state=3)\n",
    "# for train_ix, text_ix in ss.split(df.values):\n",
    "    df_train = df.iloc[train_ix, :]\n",
    "    df_test = df.iloc[text_ix, :]   \n",
    "    \n",
    "    (keywords, mc_keyword, keyword_scores, \n",
    "     genres, mc_genre, genre_scores, \n",
    "     directors, mc_director, director_scores,\n",
    "     actors, mc_actor, actor_scores,\n",
    "     medians, most_common_values, all_values) = analyze_training_set(df_train)\n",
    "    \n",
    "    d = df_train.copy()\n",
    "    impute_dataset(d, medians, most_common_values, all_values, mc_keyword, mc_actor)\n",
    "    color_label_encoder, color_one_hot_encoder, rating_label_encoder, rating_one_hot_encoder = analyze_training_set2(d)\n",
    "    X_train, y_train = extract_features(d, mc_actor, mc_genre, mc_keyword, mc_director,\n",
    "                                       color_label_encoder, color_one_hot_encoder, rating_label_encoder, rating_one_hot_encoder)    \n",
    "    \n",
    "    e = df_test.copy()\n",
    "    impute_dataset(e, medians, most_common_values, all_values, mc_keyword, mc_actor)\n",
    "    X_test, y_test = extract_features(e, mc_actor, mc_genre, mc_keyword, mc_director,\n",
    "                                     color_label_encoder, color_one_hot_encoder, rating_label_encoder, rating_one_hot_encoder)    \n",
    "\n",
    "    regr1 = linear_model.LinearRegression()\n",
    "    regr1.fit(X_train, y_train)\n",
    "    predicted1 = regr1.predict(X_test)\n",
    "    plot_data1.append([predicted1, y_test])\n",
    "    errors1 = \n",
    "    \n",
    "    regr2 = ensemble.RandomForestRegressor()\n",
    "    regr2.fit(X_train, y_train)\n",
    "    predicted2 = regr2.predict(X_test)\n",
    "    plot_data2.append([predicted2, y_test])"
   ]
  },
  {
   "cell_type": "markdown",
   "metadata": {},
   "source": [
    "# Baselines\n",
    "\n",
    "Error if we guess IMDB scores totally randomly."
   ]
  },
  {
   "cell_type": "code",
   "execution_count": null,
   "metadata": {
    "collapsed": true
   },
   "outputs": [],
   "source": [
    "y_random = np.random.rand(len(plot_data[k][1])) * 10."
   ]
  },
  {
   "cell_type": "code",
   "execution_count": 207,
   "metadata": {
    "collapsed": false
   },
   "outputs": [],
   "source": [
    "base_err_mean_abs = metrics.mean_absolute_error(y_random, plot_data[k][1])\n",
    "base_err_mean_sqr = metrics.mean_squared_error(y_random, plot_data[k][1])\n",
    "base_err_med_abs = metrics.median_absolute_error(y_random, plot_data[k][1])"
   ]
  },
  {
   "cell_type": "code",
   "execution_count": 208,
   "metadata": {
    "collapsed": false
   },
   "outputs": [
    {
     "data": {
      "image/png": "[encoded data removed]",
      "text/plain": [
       "<matplotlib.figure.Figure at 0x218383b12b0>"
      ]
     },
     "metadata": {},
     "output_type": "display_data"
    }
   ],
   "source": [
    "plot_actual_vs_prediction(y_random, plot_data1[k][1])"
   ]
  },
  {
   "cell_type": "markdown",
   "metadata": {},
   "source": [
    "# Linear Regression Model Errors"
   ]
  },
  {
   "cell_type": "code",
   "execution_count": 209,
   "metadata": {
    "collapsed": false,
    "scrolled": true
   },
   "outputs": [],
   "source": [
    "lr_err_mean_abs = np.mean([metrics.mean_absolute_error(plot_data1[k][0], plot_data1[k][1]) for k in range(len(plot_data1))])\n",
    "lr_err_mean_sqr = np.mean([metrics.mean_squared_error(plot_data1[k][0], plot_data1[k][1]) for k in range(len(plot_data1))])\n",
    "lr_err_med_abs = np.mean([metrics.median_absolute_error(plot_data1[k][0], plot_data1[k][1]) for k in range(len(plot_data1))])"
   ]
  },
  {
   "cell_type": "code",
   "execution_count": 201,
   "metadata": {
    "collapsed": false
   },
   "outputs": [
    {
     "data": {
      "image/png": "[encoded data removed]",
      "text/plain": [
       "<matplotlib.figure.Figure at 0x218382221d0>"
      ]
     },
     "metadata": {},
     "output_type": "display_data"
    }
   ],
   "source": [
    "plt.figure(figsize=(5, 5))\n",
    "for k in range(len(plot_data1)):\n",
    "    plot_actual_vs_prediction(plot_data1[k][0], plot_data1[k][1])"
   ]
  },
  {
   "cell_type": "markdown",
   "metadata": {},
   "source": [
    "## Random Forest Errors "
   ]
  },
  {
   "cell_type": "code",
   "execution_count": 202,
   "metadata": {
    "collapsed": false
   },
   "outputs": [
    {
     "data": {
      "image/png": "[encoded data removed]",
      "text/plain": [
       "<matplotlib.figure.Figure at 0x21837ef4668>"
      ]
     },
     "metadata": {},
     "output_type": "display_data"
    }
   ],
   "source": [
    "plt.figure(figsize=(5, 5))\n",
    "for k in range(len(plot_data2)):\n",
    "    plot_actual_vs_prediction(plot_data2[k][0], plot_data2[k][1])"
   ]
  },
  {
   "cell_type": "code",
   "execution_count": 213,
   "metadata": {
    "collapsed": false
   },
   "outputs": [],
   "source": [
    "rf_err_mean_abs = np.mean([metrics.mean_absolute_error(plot_data2[k][0], plot_data2[k][1]) for k in range(len(plot_data2))])\n",
    "rf_err_mean_sqr = np.mean([metrics.mean_squared_error(plot_data2[k][0], plot_data2[k][1]) for k in range(len(plot_data2))])\n",
    "rf_err_med_abs = np.mean([metrics.median_absolute_error(plot_data2[k][0], plot_data2[k][1]) for k in range(len(plot_data2))])"
   ]
  },
  {
   "cell_type": "code",
   "execution_count": 214,
   "metadata": {
    "collapsed": false
   },
   "outputs": [
    {
     "data": {
      "text/html": [
       "<div>\n",
       "<table border=\"1\" class=\"dataframe\">\n",
       "  <thead>\n",
       "    <tr style=\"text-align: right;\">\n",
       "      <th></th>\n",
       "      <th>baseline</th>\n",
       "      <th>linear model</th>\n",
       "      <th>random forest model</th>\n",
       "    </tr>\n",
       "  </thead>\n",
       "  <tbody>\n",
       "    <tr>\n",
       "      <th>mean absolute error</th>\n",
       "      <td>2.793953</td>\n",
       "      <td>0.745422</td>\n",
       "      <td>0.777153</td>\n",
       "    </tr>\n",
       "    <tr>\n",
       "      <th>mean square error</th>\n",
       "      <td>11.558247</td>\n",
       "      <td>1.046932</td>\n",
       "      <td>1.146965</td>\n",
       "    </tr>\n",
       "    <tr>\n",
       "      <th>meadian absolute error</th>\n",
       "      <td>2.434636</td>\n",
       "      <td>0.561921</td>\n",
       "      <td>0.583000</td>\n",
       "    </tr>\n",
       "  </tbody>\n",
       "</table>\n",
       "</div>"
      ],
      "text/plain": [
       "                         baseline  linear model  random forest model\n",
       "mean absolute error      2.793953      0.745422             0.777153\n",
       "mean square error       11.558247      1.046932             1.146965\n",
       "meadian absolute error   2.434636      0.561921             0.583000"
      ]
     },
     "execution_count": 214,
     "metadata": {},
     "output_type": "execute_result"
    }
   ],
   "source": [
    "pd.DataFrame(data={'baseline': [base_err_mean_abs, base_err_mean_sqr, base_err_med_abs],\n",
    "                   'linear model': [lr_err_mean_abs, lr_err_mean_sqr, lr_err_med_abs],\n",
    "                   'random forest model': [rf_err_mean_abs, rf_err_mean_sqr, rf_err_med_abs]},\n",
    "             index=['mean absolute error', 'mean square error', 'meadian absolute error'])"
   ]
  },
  {
   "cell_type": "markdown",
   "metadata": {},
   "source": [
    "# Conclusion\n",
    "\n",
    "- There is not much difference between linear and random forest model.\n",
    "- For mean square error there is a 10 fold reduction in the prediction error compared to the baseline."
   ]
  },
  {
   "cell_type": "code",
   "execution_count": null,
   "metadata": {
    "collapsed": true
   },
   "outputs": [],
   "source": []
  }
 ],
 "metadata": {
  "kernelspec": {
   "display_name": "Python (root)",
   "language": "python",
   "name": "root"
  },
  "language_info": {
   "codemirror_mode": {
    "name": "ipython",
    "version": 3
   },
   "file_extension": ".py",
   "mimetype": "text/x-python",
   "name": "python",
   "nbconvert_exporter": "python",
   "pygments_lexer": "ipython3",
   "version": "3.5.1"
  }
 },
 "nbformat": 4,
 "nbformat_minor": 0
}
